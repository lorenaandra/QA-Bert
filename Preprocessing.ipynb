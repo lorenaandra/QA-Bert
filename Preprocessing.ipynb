{
 "cells": [
  {
   "cell_type": "markdown",
   "metadata": {},
   "source": [
    "# Datasets: SQuAD and Trivia QA"
   ]
  },
  {
   "cell_type": "code",
   "execution_count": 7,
   "metadata": {},
   "outputs": [],
   "source": [
    "import os\n",
    "from datasets import load_dataset"
   ]
  },
  {
   "cell_type": "code",
   "execution_count": 4,
   "metadata": {},
   "outputs": [],
   "source": [
    "squad_dataset = load_dataset(\"rajpurkar/squad\")"
   ]
  },
  {
   "cell_type": "code",
   "execution_count": 10,
   "metadata": {},
   "outputs": [
    {
     "name": "stderr",
     "output_type": "stream",
     "text": [
      "Downloading data: 100%|██████████| 240M/240M [00:25<00:00, 9.31MB/s] \n",
      "Downloading data: 100%|██████████| 261M/261M [00:25<00:00, 10.2MB/s] \n",
      "Downloading data: 100%|██████████| 319M/319M [00:32<00:00, 9.77MB/s] \n",
      "Downloading data: 100%|██████████| 266M/266M [00:40<00:00, 6.64MB/s] \n",
      "Downloading data: 100%|██████████| 240M/240M [00:26<00:00, 9.15MB/s] \n",
      "Downloading data: 100%|██████████| 259M/259M [00:28<00:00, 9.06MB/s] \n",
      "Downloading data:  46%|████▌     | 115M/253M [00:11<00:13, 10.3MB/s] "
     ]
    }
   ],
   "source": [
    "trivia_dataset = load_dataset(\"mandarjoshi/trivia_qa\", \"rc.wikipedia\")"
   ]
  }
 ],
 "metadata": {
  "kernelspec": {
   "display_name": ".venv",
   "language": "python",
   "name": "python3"
  },
  "language_info": {
   "codemirror_mode": {
    "name": "ipython",
    "version": 3
   },
   "file_extension": ".py",
   "mimetype": "text/x-python",
   "name": "python",
   "nbconvert_exporter": "python",
   "pygments_lexer": "ipython3",
   "version": "3.12.0"
  }
 },
 "nbformat": 4,
 "nbformat_minor": 2
}
