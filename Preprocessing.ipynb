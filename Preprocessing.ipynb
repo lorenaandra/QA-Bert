{
 "cells": [
  {
   "cell_type": "markdown",
   "metadata": {},
   "source": [
    "# Datasets: SQuAD and Trivia QA"
   ]
  },
  {
   "cell_type": "code",
   "execution_count": 7,
   "metadata": {},
   "outputs": [],
   "source": [
    "import os\n",
    "from datasets import load_dataset"
   ]
  },
  {
   "cell_type": "code",
   "execution_count": 4,
   "metadata": {},
   "outputs": [],
   "source": [
    "squad_dataset = load_dataset(\"rajpurkar/squad\")"
   ]
  },
  {
   "cell_type": "code",
   "execution_count": 10,
   "metadata": {},
   "outputs": [
    {
     "name": "stderr",
     "output_type": "stream",
     "text": [
      "Downloading data: 100%|██████████| 240M/240M [00:25<00:00, 9.31MB/s] \n",
      "Downloading data: 100%|██████████| 261M/261M [00:25<00:00, 10.2MB/s] \n",
      "Downloading data: 100%|██████████| 319M/319M [00:32<00:00, 9.77MB/s] \n",
      "Downloading data: 100%|██████████| 266M/266M [00:40<00:00, 6.64MB/s] \n",
      "Downloading data: 100%|██████████| 240M/240M [00:26<00:00, 9.15MB/s] \n",
      "Downloading data: 100%|██████████| 259M/259M [00:28<00:00, 9.06MB/s] \n",
      "Downloading data: 100%|██████████| 253M/253M [00:23<00:00, 10.5MB/s] \n",
      "Downloading data: 100%|██████████| 235M/235M [00:26<00:00, 8.84MB/s] \n",
      "Downloading data: 100%|██████████| 221M/221M [00:22<00:00, 9.83MB/s] \n",
      "Generating train split: 100%|██████████| 61888/61888 [00:12<00:00, 5034.63 examples/s]\n",
      "Generating validation split: 100%|██████████| 7993/7993 [00:01<00:00, 5238.09 examples/s]\n",
      "Generating test split: 100%|██████████| 7701/7701 [00:01<00:00, 5086.61 examples/s]\n"
     ]
    }
   ],
   "source": [
    "trivia_dataset = load_dataset(\"mandarjoshi/trivia_qa\", \"rc.wikipedia\")"
   ]
  },
  {
   "cell_type": "code",
   "execution_count": 12,
   "metadata": {},
   "outputs": [
    {
     "name": "stderr",
     "output_type": "stream",
     "text": [
      "Saving the dataset (0/7 shards):   0%|          | 0/61888 [00:00<?, ? examples/s]"
     ]
    },
    {
     "name": "stderr",
     "output_type": "stream",
     "text": [
      "Saving the dataset (7/7 shards): 100%|██████████| 61888/61888 [00:03<00:00, 16590.66 examples/s]\n",
      "Saving the dataset (1/1 shards): 100%|██████████| 7993/7993 [00:01<00:00, 5636.62 examples/s]\n",
      "Saving the dataset (1/1 shards): 100%|██████████| 7701/7701 [00:01<00:00, 6226.58 examples/s]\n"
     ]
    }
   ],
   "source": [
    "trivia_dataset.save_to_disk(os.path.join(os.getcwd(), \"datasets\", 'trivia_qa_dataset'))"
   ]
  },
  {
   "cell_type": "code",
   "execution_count": 13,
   "metadata": {},
   "outputs": [
    {
     "name": "stderr",
     "output_type": "stream",
     "text": [
      "Saving the dataset (1/1 shards): 100%|██████████| 87599/87599 [00:00<00:00, 299615.13 examples/s]\n",
      "Saving the dataset (1/1 shards): 100%|██████████| 10570/10570 [00:00<00:00, 207788.68 examples/s]\n"
     ]
    }
   ],
   "source": [
    "squad_dataset.save_to_disk(os.path.join(os.getcwd(), \"datasets\", 'squad_dataset'))"
   ]
  }
 ],
 "metadata": {
  "kernelspec": {
   "display_name": ".venv",
   "language": "python",
   "name": "python3"
  },
  "language_info": {
   "codemirror_mode": {
    "name": "ipython",
    "version": 3
   },
   "file_extension": ".py",
   "mimetype": "text/x-python",
   "name": "python",
   "nbconvert_exporter": "python",
   "pygments_lexer": "ipython3",
   "version": "3.12.0"
  }
 },
 "nbformat": 4,
 "nbformat_minor": 2
}
